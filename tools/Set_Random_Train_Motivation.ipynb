{
 "cells": [
  {
   "cell_type": "markdown",
   "metadata": {},
   "source": [
    "# Set Random Training Dataset: Motivation"
   ]
  },
  {
   "cell_type": "code",
   "execution_count": 1,
   "metadata": {},
   "outputs": [],
   "source": [
    "import os, sys, time, csv, random\n",
    "import pandas as pd\n",
    "import numpy as np\n",
    "import matplotlib.pyplot as plt\n",
    "import seaborn as sns"
   ]
  },
  {
   "cell_type": "code",
   "execution_count": 2,
   "metadata": {},
   "outputs": [],
   "source": [
    "from IPython.display import Markdown, display\n",
    "def printmd(string):\n",
    "    display(Markdown(string))\n",
    "#printmd('**bold**')"
   ]
  },
  {
   "cell_type": "code",
   "execution_count": 3,
   "metadata": {},
   "outputs": [],
   "source": [
    "data_path = \"mlabel_corpora/JokeMotivation.txt\"\n",
    "outp_path = \"mlabel_corpora/JokeMotivation_train_random.txt\""
   ]
  },
  {
   "cell_type": "code",
   "execution_count": 4,
   "metadata": {},
   "outputs": [
    {
     "name": "stdout",
     "output_type": "stream",
     "text": [
      "(3365, 9)\n"
     ]
    }
   ],
   "source": [
    "# set global variables: df\n",
    "df = pd.read_csv(data_path, delimiter=\"\\t\")\n",
    "#data_raw = df.loc[np.random.choice(data_raw.index, size=2000)]\n",
    "print(df.shape) # same as data_raw.shape in Jupyter"
   ]
  },
  {
   "cell_type": "code",
   "execution_count": 5,
   "metadata": {},
   "outputs": [
    {
     "name": "stdout",
     "output_type": "stream",
     "text": [
      "(1691, 9)\n",
      "(1674, 9)\n"
     ]
    },
    {
     "name": "stderr",
     "output_type": "stream",
     "text": [
      "/Users/sam/anaconda3/lib/python3.7/site-packages/sklearn/model_selection/_split.py:2179: FutureWarning: From version 0.21, test_size will always complement train_size unless both are specified.\n",
      "  FutureWarning)\n"
     ]
    }
   ],
   "source": [
    "from sklearn.model_selection import train_test_split\n",
    "\n",
    "# ID=L1850 為分界，之前：吳玟萱，之後：黃亭筠，均為中文系同一屆\n",
    "train, test = train_test_split(df, train_size=1691, shuffle=False) \n",
    "# (tempararily) set global variables: train, test \n",
    "\n",
    "print(train.shape)\n",
    "print(test.shape)"
   ]
  },
  {
   "cell_type": "markdown",
   "metadata": {},
   "source": [
    "## Now randomly assign labels to the training set and save it to file\n",
    "\n",
    "1. First, to know the original training label distribution.\n",
    "2. Set the labels based on this distribution, by apply an algorithm from stackoverflow.com"
   ]
  },
  {
   "cell_type": "code",
   "execution_count": 6,
   "metadata": {},
   "outputs": [],
   "source": [
    "# https://pandas.pydata.org/pandas-docs/stable/reference/api/pandas.DataFrame.copy.html\n",
    "train_org = train.copy()"
   ]
  },
  {
   "cell_type": "code",
   "execution_count": 7,
   "metadata": {},
   "outputs": [
    {
     "name": "stdout",
     "output_type": "stream",
     "text": [
      "1691 \n",
      " ['ID', 'Title', 'Content', 'Affinity', 'Self_Improvement', 'Attack', 'Self_Depression', 'Taboo', 'Others']\n"
     ]
    }
   ],
   "source": [
    "Total_Samples = len(train.index) # train.shape[0] # both work, but len(train.index) is faster\n",
    "cat = list(train.columns.values)\n",
    "print(Total_Samples, \"\\n\", cat)"
   ]
  },
  {
   "cell_type": "code",
   "execution_count": 8,
   "metadata": {},
   "outputs": [
    {
     "data": {
      "text/plain": [
       "array([[0, 0, 0, 1, 0, 0],\n",
       "       [0, 0, 1, 0, 0, 0],\n",
       "       [0, 0, 0, 1, 0, 0],\n",
       "       ...,\n",
       "       [0, 0, 0, 1, 0, 0],\n",
       "       [0, 0, 0, 0, 0, 1],\n",
       "       [0, 0, 0, 0, 0, 1]])"
      ]
     },
     "execution_count": 8,
     "metadata": {},
     "output_type": "execute_result"
    }
   ],
   "source": [
    "matrix = train.iloc[:, 3:].values # get the values of the labels in matrix form\n",
    "'''\n",
    "matrix = np.array( # for testing\n",
    "    [[0, 0, 1], \n",
    "     [1, 1, 0], \n",
    "     [1, 0, 0]]\n",
    ")\n",
    "'''\n",
    "matrix"
   ]
  },
  {
   "cell_type": "code",
   "execution_count": 9,
   "metadata": {},
   "outputs": [
    {
     "name": "stdout",
     "output_type": "stream",
     "text": [
      "1691 6\n",
      "init_matrix:\n",
      " [[0 0 0 1 0 0]\n",
      " [0 0 1 0 0 0]\n",
      " [0 0 0 1 0 0]\n",
      " ...\n",
      " [0 0 0 1 0 0]\n",
      " [0 0 0 0 0 1]\n",
      " [0 0 0 0 0 1]]\n",
      "iteration: 1\n",
      "matrix2:\n",
      " [[0 0 0 0 1 0]\n",
      " [0 0 0 0 0 1]\n",
      " [0 0 0 0 0 1]\n",
      " ...\n",
      " [0 0 0 0 0 1]\n",
      " [0 0 0 0 1 0]\n",
      " [0 1 0 0 0 0]]\n"
     ]
    }
   ],
   "source": [
    "# Randomize matrix keeping row and column totals the same\n",
    "# https://stackoverflow.com/questions/2133268/randomize-matrix-in-perl-keeping-row-and-column-totals-the-same\n",
    "\n",
    "def shuffle(array):\n",
    "    i = len(array)\n",
    "    j = 0\n",
    "    for _ in (array):\n",
    "        i -= 1;\n",
    "        j = random.randrange(0, i+1) #int rand($i + 1);\n",
    "        #print('arrary:', array)\n",
    "        #print(f'len(array)={len(array)}, (i, j)=({i}, {j})')\n",
    "        if i != j: \n",
    "            tmp = array[i]\n",
    "            array[i] = array[j]\n",
    "            array[j] = tmp\n",
    "    return array\n",
    "\n",
    "def other_edits(matrix, cell, step, last_j):\n",
    "    # We have succeeded if we've already made 3 edits.\n",
    "    step += 1\n",
    "    if step > 3: \n",
    "        return True\n",
    "\n",
    "    # Determine the roster of next edits to fix the row or\n",
    "    # column total upset by our prior edit.\n",
    "    (i, j) = cell\n",
    "    fixes = []\n",
    "    if (step == 1):\n",
    "        fixes = [[i, x] for x in range(len(matrix[0])) if x != j and not matrix[i][x] ]\n",
    "        fixes = shuffle(fixes)\n",
    "    elif (step == 2):\n",
    "        fixes = [[x, j] for x in range(len(matrix)) if x != i and matrix[x][j]]\n",
    "        fixes = shuffle(fixes)\n",
    "    else:\n",
    "        # On the last edit, the column of the fix must be\n",
    "        # the same as the column of the initial edit.\n",
    "        if not matrix[i][last_j]: fixes = [[i, last_j]]\n",
    "\n",
    "    for f in (fixes):\n",
    "        # If all subsequent fixes succeed, we are golden: make\n",
    "        # the current fix and return true.\n",
    "        if ( other_edits(matrix, f, step, last_j) ):\n",
    "            matrix[f[0]][f[1]] = 0 if step == 2 else 1\n",
    "            return True\n",
    "\n",
    "    # Failure if we get here.\n",
    "    return False # return False\n",
    "\n",
    "def cells_to_move(matrix):\n",
    "    # Returns a list of non-empty cells.\n",
    "    i = -1\n",
    "    cells = []\n",
    "    for row in matrix:\n",
    "        i += 1;\n",
    "        for j in range(len(row)):\n",
    "            if matrix[i][j]: cells.append([i, j])\n",
    "    return cells\n",
    "\n",
    "def edit_matrix(matrix):\n",
    "    # Takes a matrix and moves all of the non-empty cells somewhere else.\n",
    "    move_these = cells_to_move(matrix)\n",
    "    for cell in move_these:\n",
    "        (i, j) = cell\n",
    "        # Move the cell, provided that the cell hasn't been moved\n",
    "        # already and the subsequent edits don't lead to a dead end.\n",
    "        if matrix[i][j] and other_edits(matrix, cell, 0, j):\n",
    "            matrix[i][j] = 0\n",
    "    return matrix\n",
    "\n",
    "def init_matrix(rows, cols, density): # not used\n",
    "    matrix = []\n",
    "    for r in range(rows):\n",
    "        matrix.append([ 1 if random.random() < density else 0  for _ in range(cols) ])\n",
    "    return matrix\n",
    "\n",
    "def Shuffle_Matrix(matrix, N, M, n_iter): \n",
    "    #matrix = init_matrix(N, M, density)\n",
    "    print(\"init_matrix:\\n\", matrix);\n",
    "    for n in range(n_iter):\n",
    "        print(f'iteration: {n+1}') # Show progress.\n",
    "        matrix = edit_matrix(matrix)\n",
    "        #print('matrix:\\n', matrix)\n",
    "    return matrix\n",
    "\n",
    "def compute_density(train_org, cat): # not used\n",
    "    sum = 0\n",
    "    for category in cat[3:]:\n",
    "        sum += train_org[category].sum()\n",
    "    density = sum/(train_org.shape[0] * train_org.shape[1])\n",
    "    print(f'sum={sum}, density={density}')\n",
    "    return density\n",
    "\n",
    "print(matrix.shape[0], matrix.shape[1]) #;print(matrix)\n",
    "#density = compute_density(train_org, cat)\n",
    "#density = sum([sum(row) for row in matrix])/(matrix.shape[0] * matrix.shape[1])\n",
    "#print('density : %1.6f'%density)\n",
    "\n",
    "# Args: N rows, N columns, density, N iterations.\n",
    "matrix2 = Shuffle_Matrix(matrix, matrix.shape[0], matrix.shape[1], 1) \n",
    "# even n_iter number would be the same for the toy 3x3 example\n",
    "# n_iter =  1, both==517, 694, 491 (after Kernel Restart)\n",
    "# n_iter =  5, both==677, 651\n",
    "# n_iter = 10, both==615, 600\n",
    "# n_iter = 11, both==626, 664\n",
    "# n_iter = 20, both==634, 613\n",
    "# n_iter = 21, both==638, 640\n",
    "# n_iter = 30, both==611, 633\n",
    "print(\"matrix2:\\n\", matrix2)"
   ]
  },
  {
   "cell_type": "code",
   "execution_count": 10,
   "metadata": {},
   "outputs": [],
   "source": [
    "# set matrix2 to train\n",
    "j = -1\n",
    "for c in cat[3:]:\n",
    "    j += 1\n",
    "    for i in range(Total_Samples):\n",
    "        train.at[i, c] = matrix2[i][j]"
   ]
  },
  {
   "cell_type": "code",
   "execution_count": 11,
   "metadata": {},
   "outputs": [
    {
     "name": "stdout",
     "output_type": "stream",
     "text": [
      "both          491\n",
      "right_only      0\n",
      "left_only       0\n",
      "Name: _merge, dtype: int64\n",
      "right_only    1200\n",
      "left_only     1200\n",
      "both             0\n",
      "Name: _merge, dtype: int64\n",
      "1691 491 1200 1200\n",
      "1691 0.29036073329390893\n"
     ]
    }
   ],
   "source": [
    "def dataframe_difference(df1, df2, which=None):\n",
    "    \"\"\"Find rows which are different between two DataFrames.\"\"\"\n",
    "    comparison_df = df1.merge(df2,\n",
    "                              indicator=True,\n",
    "                              how='outer')\n",
    "    if which is None:\n",
    "        diff_df = comparison_df[comparison_df['_merge'] != 'both']\n",
    "    else:\n",
    "        diff_df = comparison_df[comparison_df['_merge'] == which]\n",
    "    #diff_df.to_csv('data/diff.csv')\n",
    "    return diff_df\n",
    "\n",
    "diff_both = dataframe_difference(train_org, train, which='both')\n",
    "both=diff_both['_merge'].value_counts(); print(both)\n",
    "diff = dataframe_difference(train_org, train)\n",
    "one = diff['_merge'].value_counts(); print(one)\n",
    "print(train.shape[0], both['both'], one['right_only'], one['left_only'])\n",
    "print(both['both']+one['right_only'], both['both']/train.shape[0])"
   ]
  },
  {
   "cell_type": "markdown",
   "metadata": {},
   "source": [
    "### 1.1. Checking for missing values"
   ]
  },
  {
   "cell_type": "code",
   "execution_count": 12,
   "metadata": {},
   "outputs": [
    {
     "name": "stdout",
     "output_type": "stream",
     "text": [
      "ID                  0\n",
      "Title               0\n",
      "Content             0\n",
      "Affinity            0\n",
      "Self_Improvement    0\n",
      "Attack              0\n",
      "Self_Depression     0\n",
      "Taboo               0\n",
      "Others              0\n",
      "dtype: int64 \n",
      "\n",
      "ID                  0\n",
      "Title               0\n",
      "Content             0\n",
      "Affinity            0\n",
      "Self_Improvement    0\n",
      "Attack              0\n",
      "Self_Depression     0\n",
      "Taboo               0\n",
      "Others              0\n",
      "dtype: int64\n"
     ]
    }
   ],
   "source": [
    "missing_values_check = train_org.isnull().sum()\n",
    "print(missing_values_check, \"\\n\")\n",
    "missing_values_check = train.isnull().sum()\n",
    "print(missing_values_check)"
   ]
  },
  {
   "cell_type": "markdown",
   "metadata": {},
   "source": [
    "### 1.2. Calculating number of jokes under each label"
   ]
  },
  {
   "cell_type": "code",
   "execution_count": 13,
   "metadata": {},
   "outputs": [],
   "source": [
    "# Jokes with no label are considered to be clean jokes.\n",
    "# Creating seperate column in dataframe to identify clean jokes.\n",
    "# We use axis=1 to count row-wise and axis=0 to count column wise\n",
    "def print_empty_label(df, s):\n",
    "    rowSums = df.iloc[:,3:].sum(axis=1)\n",
    "    #print(rowSums.shape)\n",
    "    #print(rowSums.head())\n",
    "    clean_comments_count = (rowSums==0).sum(axis=0)\n",
    "\n",
    "    print(f\"Total number of {s} jokes = \",len(df))\n",
    "    print(f\"Number of clean jokes in {s} = \",clean_comments_count)\n",
    "    print(f\"Number of {s} jokes with labels =\",(len(df)-clean_comments_count))\n",
    "    print()"
   ]
  },
  {
   "cell_type": "code",
   "execution_count": 14,
   "metadata": {},
   "outputs": [
    {
     "name": "stdout",
     "output_type": "stream",
     "text": [
      "False\n",
      "Total number of train_org jokes =  1691\n",
      "Number of clean jokes in train_org =  5\n",
      "Number of train_org jokes with labels = 1686\n",
      "\n",
      "Total number of train jokes =  1691\n",
      "Number of clean jokes in train =  5\n",
      "Number of train jokes with labels = 1686\n",
      "\n"
     ]
    }
   ],
   "source": [
    "print(train_org.equals(train))\n",
    "print_empty_label(train_org, 'train_org')\n",
    "print_empty_label(train, 'train')"
   ]
  },
  {
   "cell_type": "code",
   "execution_count": 15,
   "metadata": {
    "scrolled": true
   },
   "outputs": [
    {
     "name": "stdout",
     "output_type": "stream",
     "text": [
      "['ID', 'Title', 'Content', 'Affinity', 'Self_Improvement', 'Attack', 'Self_Depression', 'Taboo', 'Others']\n",
      "['Affinity', 'Self_Improvement', 'Attack', 'Self_Depression', 'Taboo', 'Others']\n"
     ]
    }
   ],
   "source": [
    "# set global variables: categories\n",
    "categories = list(df.columns.values)\n",
    "print(categories)\n",
    "categories = categories[3:]\n",
    "print(categories)"
   ]
  },
  {
   "cell_type": "code",
   "execution_count": 16,
   "metadata": {},
   "outputs": [],
   "source": [
    "# Calculating number of jokes in each category\n",
    "def print_category_count(df, categories):\n",
    "    counts = []\n",
    "    for category in categories:\n",
    "        counts.append((category, df[category].sum()))\n",
    "    df_stats = pd.DataFrame(counts, columns=['category', 'number of jokes'])\n",
    "    print(df_stats)\n",
    "    print()"
   ]
  },
  {
   "cell_type": "code",
   "execution_count": 17,
   "metadata": {},
   "outputs": [
    {
     "name": "stdout",
     "output_type": "stream",
     "text": [
      "           category  number of jokes\n",
      "0          Affinity               92\n",
      "1  Self_Improvement               43\n",
      "2            Attack              409\n",
      "3   Self_Depression               64\n",
      "4             Taboo              584\n",
      "5            Others             2226\n",
      "\n",
      "           category  number of jokes\n",
      "0          Affinity               73\n",
      "1  Self_Improvement               27\n",
      "2            Attack              266\n",
      "3   Self_Depression               47\n",
      "4             Taboo              355\n",
      "5            Others              972\n",
      "\n",
      "           category  number of jokes\n",
      "0          Affinity               73\n",
      "1  Self_Improvement               27\n",
      "2            Attack              266\n",
      "3   Self_Depression               47\n",
      "4             Taboo              355\n",
      "5            Others              972\n",
      "\n",
      "           category  number of jokes\n",
      "0          Affinity               19\n",
      "1  Self_Improvement               16\n",
      "2            Attack              143\n",
      "3   Self_Depression               17\n",
      "4             Taboo              229\n",
      "5            Others             1254\n",
      "\n"
     ]
    }
   ],
   "source": [
    "print_category_count(df, categories)\n",
    "print_category_count(train_org, categories)\n",
    "print_category_count(train, categories)\n",
    "print_category_count(test, categories)"
   ]
  },
  {
   "cell_type": "code",
   "execution_count": 18,
   "metadata": {},
   "outputs": [],
   "source": [
    "def plot_category_count(df, categories):\n",
    "    sns.set(font_scale = 2)\n",
    "    plt.figure(figsize=(15,8))\n",
    "\n",
    "    ax= sns.barplot(categories, df.iloc[:,3:].sum().values)\n",
    "\n",
    "    plt.title(\"Jokes in each category\", fontsize=24)\n",
    "    plt.ylabel('Number of jokes', fontsize=18)\n",
    "    plt.xlabel('Joke Skill', fontsize=18)\n",
    "\n",
    "    #adding the text labels\n",
    "    rects = ax.patches\n",
    "    #print(rects)\n",
    "    labels = df.iloc[:,3:].sum().values\n",
    "    #print(labels)\n",
    "    for rect, label in zip(rects, labels):\n",
    "        height = rect.get_height()\n",
    "        ax.text(rect.get_x() + rect.get_width()/2, height + 5, label, ha='center', va='bottom', fontsize=18)\n",
    "\n",
    "    plt.show()"
   ]
  },
  {
   "cell_type": "code",
   "execution_count": 19,
   "metadata": {},
   "outputs": [],
   "source": [
    "#plot_category_count(df, categories)"
   ]
  },
  {
   "cell_type": "markdown",
   "metadata": {},
   "source": [
    "### 1.3. Calculating number of jokes having multiple labels"
   ]
  },
  {
   "cell_type": "code",
   "execution_count": 20,
   "metadata": {},
   "outputs": [],
   "source": [
    "def plot_multiple_label(mlc_labels, multiLabel_counts):\n",
    "    sns.set(font_scale = 2)\n",
    "    plt.figure(figsize=(15,8))\n",
    "\n",
    "    ax = sns.barplot(mlc_labels, multiLabel_counts.values)\n",
    "\n",
    "    plt.title(\"Jokes having multiple labels \")\n",
    "    plt.ylabel('Number of jokes', fontsize=18)\n",
    "    plt.xlabel('Number of labels', fontsize=18)\n",
    "\n",
    "    #adding the text labels\n",
    "    rects = ax.patches\n",
    "    labels = multiLabel_counts.values\n",
    "    for rect, label in zip(rects, labels):\n",
    "        height = rect.get_height()\n",
    "        ax.text(rect.get_x() + rect.get_width()/2, height + 5, label, ha='center', va='bottom')\n",
    "\n",
    "    plt.show()"
   ]
  },
  {
   "cell_type": "code",
   "execution_count": 21,
   "metadata": {},
   "outputs": [],
   "source": [
    "def print_multiple_label(df):\n",
    "    rowSums = df.iloc[:,3:].sum(axis=1)\n",
    "    multiLabel_counts = rowSums.value_counts()\n",
    "    print(multiLabel_counts)\n",
    "    multiLabel_counts = multiLabel_counts.iloc[:]\n",
    "    #print(multiLabel_counts.index)\n",
    "    mlc_labels = ['L'+str(i) for i in multiLabel_counts.index]\n",
    "    print(mlc_labels)\n",
    "    \n",
    "    #plot_multiple_label(mlc_labels, multiLabel_counts)\n",
    "    ##return(mlc_labels, multiLabel_counts)"
   ]
  },
  {
   "cell_type": "code",
   "execution_count": 22,
   "metadata": {},
   "outputs": [
    {
     "name": "stdout",
     "output_type": "stream",
     "text": [
      "1    3301\n",
      "2      57\n",
      "0       6\n",
      "3       1\n",
      "dtype: int64\n",
      "['L1', 'L2', 'L0', 'L3']\n",
      "1    1633\n",
      "2      52\n",
      "0       5\n",
      "3       1\n",
      "dtype: int64\n",
      "['L1', 'L2', 'L0', 'L3']\n",
      "1    1633\n",
      "2      52\n",
      "0       5\n",
      "3       1\n",
      "dtype: int64\n",
      "['L1', 'L2', 'L0', 'L3']\n"
     ]
    }
   ],
   "source": [
    "print_multiple_label(df)\n",
    "print_multiple_label(train_org)\n",
    "print_multiple_label(train)"
   ]
  },
  {
   "cell_type": "markdown",
   "metadata": {},
   "source": [
    "## Write the result to a file"
   ]
  },
  {
   "cell_type": "code",
   "execution_count": 23,
   "metadata": {},
   "outputs": [],
   "source": [
    "with open(outp_path, 'w') as outF:\n",
    "    outF.write(train.to_csv(sep='\\t', index=False))"
   ]
  },
  {
   "cell_type": "code",
   "execution_count": null,
   "metadata": {},
   "outputs": [],
   "source": []
  }
 ],
 "metadata": {
  "kernelspec": {
   "display_name": "Python 3",
   "language": "python",
   "name": "python3"
  },
  "language_info": {
   "codemirror_mode": {
    "name": "ipython",
    "version": 3
   },
   "file_extension": ".py",
   "mimetype": "text/x-python",
   "name": "python",
   "nbconvert_exporter": "python",
   "pygments_lexer": "ipython3",
   "version": "3.7.1"
  }
 },
 "nbformat": 4,
 "nbformat_minor": 2
}
