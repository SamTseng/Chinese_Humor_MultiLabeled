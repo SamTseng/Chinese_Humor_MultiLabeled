{
 "cells": [
  {
   "cell_type": "markdown",
   "metadata": {},
   "source": [
    "# Set Random Training Dataset"
   ]
  },
  {
   "cell_type": "code",
   "execution_count": 1,
   "metadata": {},
   "outputs": [],
   "source": [
    "import os, sys, time, csv, random\n",
    "import pandas as pd\n",
    "import numpy as np\n",
    "import matplotlib.pyplot as plt\n",
    "import seaborn as sns"
   ]
  },
  {
   "cell_type": "code",
   "execution_count": 2,
   "metadata": {},
   "outputs": [],
   "source": [
    "from IPython.display import Markdown, display\n",
    "def printmd(string):\n",
    "    display(Markdown(string))\n",
    "#printmd('**bold**')"
   ]
  },
  {
   "cell_type": "code",
   "execution_count": 3,
   "metadata": {},
   "outputs": [],
   "source": [
    "data_path                = \"../mlabel_corpora/JokeHumorLevel.txt\"\n",
    "data_OneHot_path         = \"../mlabel_corpora/JokeHumorLevel_OneHot.txt\"\n",
    "train_OneHot_path        = \"../mlabel_corpora/JokeHumorLevel_train_OneHot.txt\"\n",
    "train_OneHot_random_path = \"../mlabel_corpora/JokeHumorLevel_train_OneHot_random.txt\"\n",
    "test_OneHot_path         = \"../mlabel_corpora/JokeHumorLevel_test_OneHot.txt\""
   ]
  },
  {
   "cell_type": "code",
   "execution_count": 4,
   "metadata": {},
   "outputs": [
    {
     "name": "stdout",
     "output_type": "stream",
     "text": [
      "(3365, 4)\n"
     ]
    }
   ],
   "source": [
    "# set global variables: df\n",
    "df = pd.read_csv(data_path, delimiter=\"\\t\")\n",
    "#data_raw = df.loc[np.random.choice(data_raw.index, size=2000)]\n",
    "print(df.shape) # same as data_raw.shape in Jupyter"
   ]
  },
  {
   "cell_type": "code",
   "execution_count": 5,
   "metadata": {},
   "outputs": [
    {
     "data": {
      "text/html": [
       "<div>\n",
       "<style scoped>\n",
       "    .dataframe tbody tr th:only-of-type {\n",
       "        vertical-align: middle;\n",
       "    }\n",
       "\n",
       "    .dataframe tbody tr th {\n",
       "        vertical-align: top;\n",
       "    }\n",
       "\n",
       "    .dataframe thead th {\n",
       "        text-align: right;\n",
       "    }\n",
       "</style>\n",
       "<table border=\"1\" class=\"dataframe\">\n",
       "  <thead>\n",
       "    <tr style=\"text-align: right;\">\n",
       "      <th></th>\n",
       "      <th>ID</th>\n",
       "      <th>Title</th>\n",
       "      <th>Content</th>\n",
       "      <th>HumorLevel</th>\n",
       "      <th>1</th>\n",
       "      <th>2</th>\n",
       "      <th>3</th>\n",
       "      <th>4</th>\n",
       "      <th>5</th>\n",
       "    </tr>\n",
       "  </thead>\n",
       "  <tbody>\n",
       "    <tr>\n",
       "      <th>0</th>\n",
       "      <td>L0001</td>\n",
       "      <td>要求加薪</td>\n",
       "      <td>員工：老闆，您必須幫我加薪，已經有三家公司在找我了！     老闆：哪三家？     員工：...</td>\n",
       "      <td>4</td>\n",
       "      <td>0</td>\n",
       "      <td>0</td>\n",
       "      <td>0</td>\n",
       "      <td>1</td>\n",
       "      <td>0</td>\n",
       "    </tr>\n",
       "    <tr>\n",
       "      <th>1</th>\n",
       "      <td>L0002</td>\n",
       "      <td>查無此人</td>\n",
       "      <td>某市政府辦公大樓落成，門口缺副對聯。     副市長揮毫     上聯：說實話辦實事一身正氣...</td>\n",
       "      <td>3</td>\n",
       "      <td>0</td>\n",
       "      <td>0</td>\n",
       "      <td>1</td>\n",
       "      <td>0</td>\n",
       "      <td>0</td>\n",
       "    </tr>\n",
       "    <tr>\n",
       "      <th>2</th>\n",
       "      <td>L0003</td>\n",
       "      <td>遣散費</td>\n",
       "      <td>中午老闆視察自己的建築工地時，發現有個人在角落玩手機。     老闆：你月薪多少？     ...</td>\n",
       "      <td>4</td>\n",
       "      <td>0</td>\n",
       "      <td>0</td>\n",
       "      <td>0</td>\n",
       "      <td>1</td>\n",
       "      <td>0</td>\n",
       "    </tr>\n",
       "    <tr>\n",
       "      <th>3</th>\n",
       "      <td>L0004</td>\n",
       "      <td>職業習慣</td>\n",
       "      <td>一天，一位法官的女友看見兩個蚊子，便叫法官打死。     只見法官只把那個肚子飽飽的蚊子打死...</td>\n",
       "      <td>2</td>\n",
       "      <td>0</td>\n",
       "      <td>1</td>\n",
       "      <td>0</td>\n",
       "      <td>0</td>\n",
       "      <td>0</td>\n",
       "    </tr>\n",
       "    <tr>\n",
       "      <th>4</th>\n",
       "      <td>L0005</td>\n",
       "      <td>美女吵架</td>\n",
       "      <td>辦公室中兩位女同事吵起來了。     經理忍無可忍：「太不像話了！現在是什麼情況？你們把原因...</td>\n",
       "      <td>4</td>\n",
       "      <td>0</td>\n",
       "      <td>0</td>\n",
       "      <td>0</td>\n",
       "      <td>1</td>\n",
       "      <td>0</td>\n",
       "    </tr>\n",
       "  </tbody>\n",
       "</table>\n",
       "</div>"
      ],
      "text/plain": [
       "      ID Title                                            Content  HumorLevel  \\\n",
       "0  L0001  要求加薪  員工：老闆，您必須幫我加薪，已經有三家公司在找我了！     老闆：哪三家？     員工：...           4   \n",
       "1  L0002  查無此人  某市政府辦公大樓落成，門口缺副對聯。     副市長揮毫     上聯：說實話辦實事一身正氣...           3   \n",
       "2  L0003   遣散費  中午老闆視察自己的建築工地時，發現有個人在角落玩手機。     老闆：你月薪多少？     ...           4   \n",
       "3  L0004  職業習慣  一天，一位法官的女友看見兩個蚊子，便叫法官打死。     只見法官只把那個肚子飽飽的蚊子打死...           2   \n",
       "4  L0005  美女吵架  辦公室中兩位女同事吵起來了。     經理忍無可忍：「太不像話了！現在是什麼情況？你們把原因...           4   \n",
       "\n",
       "   1  2  3  4  5  \n",
       "0  0  0  0  1  0  \n",
       "1  0  0  1  0  0  \n",
       "2  0  0  0  1  0  \n",
       "3  0  1  0  0  0  \n",
       "4  0  0  0  1  0  "
      ]
     },
     "execution_count": 5,
     "metadata": {},
     "output_type": "execute_result"
    }
   ],
   "source": [
    "# Convert the HumorLevel into one-hot encoding. Refer to:\n",
    "#    https://stackoverflow.com/a/39287161/8583170\n",
    "# Get one hot encoding of columns B\n",
    "one_hot = pd.get_dummies(df['HumorLevel'])\n",
    "# Drop column HumorLevel as it is now encoded\n",
    "#df = df.drop('HumorLevel',axis = 1)\n",
    "# Join the encoded df\n",
    "df = df.join(one_hot)\n",
    "df.head()"
   ]
  },
  {
   "cell_type": "code",
   "execution_count": 6,
   "metadata": {},
   "outputs": [
    {
     "name": "stdout",
     "output_type": "stream",
     "text": [
      "(1691, 9)\n",
      "(1674, 9)\n"
     ]
    }
   ],
   "source": [
    "from sklearn.model_selection import train_test_split\n",
    "\n",
    "# ID=L1850 為分界，之前：吳玟萱，之後：黃亭筠，均為中文系同一屆\n",
    "train, test = train_test_split(df, train_size=1691, shuffle=False) \n",
    "# (tempararily) set global variables: train, test \n",
    "\n",
    "print(train.shape)\n",
    "print(test.shape)"
   ]
  },
  {
   "cell_type": "code",
   "execution_count": 7,
   "metadata": {},
   "outputs": [],
   "source": [
    "with open(data_OneHot_path, 'w') as outF:\n",
    "    outF.write(df.to_csv(sep='\\t', index=False))\n",
    "with open(train_OneHot_path, 'w') as outF:\n",
    "    outF.write(train.to_csv(sep='\\t', index=False))\n",
    "with open(test_OneHot_path, 'w') as outF:\n",
    "    outF.write(test.to_csv(sep='\\t', index=False))"
   ]
  },
  {
   "cell_type": "markdown",
   "metadata": {},
   "source": [
    "## Now randomly assign labels to the training set and save it to file\n",
    "\n",
    "1. First, to know the original training label distribution.\n",
    "2. Set the labels based on this distribution, by apply an algorithm from stackoverflow.com"
   ]
  },
  {
   "cell_type": "code",
   "execution_count": 8,
   "metadata": {},
   "outputs": [],
   "source": [
    "# https://pandas.pydata.org/pandas-docs/stable/reference/api/pandas.DataFrame.copy.html\n",
    "train_org = train.copy()"
   ]
  },
  {
   "cell_type": "code",
   "execution_count": 9,
   "metadata": {},
   "outputs": [
    {
     "name": "stdout",
     "output_type": "stream",
     "text": [
      "1691 \n",
      " ['ID', 'Title', 'Content', 'HumorLevel', 1, 2, 3, 4, 5]\n"
     ]
    },
    {
     "data": {
      "text/html": [
       "<div>\n",
       "<style scoped>\n",
       "    .dataframe tbody tr th:only-of-type {\n",
       "        vertical-align: middle;\n",
       "    }\n",
       "\n",
       "    .dataframe tbody tr th {\n",
       "        vertical-align: top;\n",
       "    }\n",
       "\n",
       "    .dataframe thead th {\n",
       "        text-align: right;\n",
       "    }\n",
       "</style>\n",
       "<table border=\"1\" class=\"dataframe\">\n",
       "  <thead>\n",
       "    <tr style=\"text-align: right;\">\n",
       "      <th></th>\n",
       "      <th>ID</th>\n",
       "      <th>Title</th>\n",
       "      <th>Content</th>\n",
       "      <th>1</th>\n",
       "      <th>2</th>\n",
       "      <th>3</th>\n",
       "      <th>4</th>\n",
       "      <th>5</th>\n",
       "    </tr>\n",
       "    <tr>\n",
       "      <th>HumorLevel</th>\n",
       "      <th></th>\n",
       "      <th></th>\n",
       "      <th></th>\n",
       "      <th></th>\n",
       "      <th></th>\n",
       "      <th></th>\n",
       "      <th></th>\n",
       "      <th></th>\n",
       "    </tr>\n",
       "  </thead>\n",
       "  <tbody>\n",
       "    <tr>\n",
       "      <th>1</th>\n",
       "      <td>47</td>\n",
       "      <td>47</td>\n",
       "      <td>47</td>\n",
       "      <td>47</td>\n",
       "      <td>47</td>\n",
       "      <td>47</td>\n",
       "      <td>47</td>\n",
       "      <td>47</td>\n",
       "    </tr>\n",
       "    <tr>\n",
       "      <th>2</th>\n",
       "      <td>251</td>\n",
       "      <td>251</td>\n",
       "      <td>251</td>\n",
       "      <td>251</td>\n",
       "      <td>251</td>\n",
       "      <td>251</td>\n",
       "      <td>251</td>\n",
       "      <td>251</td>\n",
       "    </tr>\n",
       "    <tr>\n",
       "      <th>3</th>\n",
       "      <td>742</td>\n",
       "      <td>742</td>\n",
       "      <td>742</td>\n",
       "      <td>742</td>\n",
       "      <td>742</td>\n",
       "      <td>742</td>\n",
       "      <td>742</td>\n",
       "      <td>742</td>\n",
       "    </tr>\n",
       "    <tr>\n",
       "      <th>4</th>\n",
       "      <td>604</td>\n",
       "      <td>604</td>\n",
       "      <td>604</td>\n",
       "      <td>604</td>\n",
       "      <td>604</td>\n",
       "      <td>604</td>\n",
       "      <td>604</td>\n",
       "      <td>604</td>\n",
       "    </tr>\n",
       "    <tr>\n",
       "      <th>5</th>\n",
       "      <td>47</td>\n",
       "      <td>47</td>\n",
       "      <td>47</td>\n",
       "      <td>47</td>\n",
       "      <td>47</td>\n",
       "      <td>47</td>\n",
       "      <td>47</td>\n",
       "      <td>47</td>\n",
       "    </tr>\n",
       "  </tbody>\n",
       "</table>\n",
       "</div>"
      ],
      "text/plain": [
       "             ID  Title  Content    1    2    3    4    5\n",
       "HumorLevel                                              \n",
       "1            47     47       47   47   47   47   47   47\n",
       "2           251    251      251  251  251  251  251  251\n",
       "3           742    742      742  742  742  742  742  742\n",
       "4           604    604      604  604  604  604  604  604\n",
       "5            47     47       47   47   47   47   47   47"
      ]
     },
     "execution_count": 9,
     "metadata": {},
     "output_type": "execute_result"
    }
   ],
   "source": [
    "Total_Samples = len(train.index) # train.shape[0] # both work, but len(train.index) is faster\n",
    "cat = list(train.columns.values)\n",
    "print(Total_Samples, \"\\n\", cat)\n",
    "train.groupby(['HumorLevel']).count()\n"
   ]
  },
  {
   "cell_type": "code",
   "execution_count": 10,
   "metadata": {},
   "outputs": [
    {
     "data": {
      "text/plain": [
       "array([[0, 0, 0, 1, 0],\n",
       "       [0, 0, 1, 0, 0],\n",
       "       [0, 0, 0, 1, 0],\n",
       "       ...,\n",
       "       [0, 0, 0, 1, 0],\n",
       "       [0, 0, 0, 1, 0],\n",
       "       [0, 0, 0, 1, 0]], dtype=uint8)"
      ]
     },
     "execution_count": 10,
     "metadata": {},
     "output_type": "execute_result"
    }
   ],
   "source": [
    "matrix = train.iloc[:, 4:].values # get the values of the labels in matrix form\n",
    "'''\n",
    "matrix = np.array( # for testing\n",
    "    [[0, 0, 1], \n",
    "     [1, 1, 0], \n",
    "     [1, 0, 0]]\n",
    ")\n",
    "'''\n",
    "matrix"
   ]
  },
  {
   "cell_type": "code",
   "execution_count": 11,
   "metadata": {},
   "outputs": [
    {
     "name": "stdout",
     "output_type": "stream",
     "text": [
      "1691 5\n",
      "init_matrix:\n",
      " [[0 0 0 1 0]\n",
      " [0 0 1 0 0]\n",
      " [0 0 0 1 0]\n",
      " ...\n",
      " [0 0 0 1 0]\n",
      " [0 0 0 1 0]\n",
      " [0 0 0 1 0]]\n",
      "iteration: 1\n",
      "iteration: 2\n",
      "iteration: 3\n",
      "iteration: 4\n",
      "iteration: 5\n",
      "iteration: 6\n",
      "iteration: 7\n",
      "iteration: 8\n",
      "iteration: 9\n",
      "iteration: 10\n",
      "iteration: 11\n",
      "matrix2:\n",
      " [[0 0 0 1 0]\n",
      " [0 0 1 0 0]\n",
      " [0 0 1 0 0]\n",
      " ...\n",
      " [0 1 0 0 0]\n",
      " [0 1 0 0 0]\n",
      " [0 1 0 0 0]]\n"
     ]
    }
   ],
   "source": [
    "# Randomize matrix keeping row and column totals the same\n",
    "# https://stackoverflow.com/questions/2133268/randomize-matrix-in-perl-keeping-row-and-column-totals-the-same\n",
    "\n",
    "def shuffle(array):\n",
    "    i = len(array)\n",
    "    j = 0\n",
    "    for _ in (array):\n",
    "        i -= 1;\n",
    "        j = random.randrange(0, i+1) #int rand($i + 1);\n",
    "        #print('arrary:', array)\n",
    "        #print(f'len(array)={len(array)}, (i, j)=({i}, {j})')\n",
    "        if i != j: \n",
    "            tmp = array[i]\n",
    "            array[i] = array[j]\n",
    "            array[j] = tmp\n",
    "    return array\n",
    "\n",
    "def other_edits(matrix, cell, step, last_j):\n",
    "    # We have succeeded if we've already made 3 edits.\n",
    "    step += 1\n",
    "    if step > 3: \n",
    "        return True\n",
    "\n",
    "    # Determine the roster of next edits to fix the row or\n",
    "    # column total upset by our prior edit.\n",
    "    (i, j) = cell\n",
    "    fixes = []\n",
    "    if (step == 1):\n",
    "        fixes = [[i, x] for x in range(len(matrix[0])) if x != j and not matrix[i][x] ]\n",
    "        fixes = shuffle(fixes)\n",
    "    elif (step == 2):\n",
    "        fixes = [[x, j] for x in range(len(matrix)) if x != i and matrix[x][j]]\n",
    "        fixes = shuffle(fixes)\n",
    "    else:\n",
    "        # On the last edit, the column of the fix must be\n",
    "        # the same as the column of the initial edit.\n",
    "        if not matrix[i][last_j]: fixes = [[i, last_j]]\n",
    "\n",
    "    for f in (fixes):\n",
    "        # If all subsequent fixes succeed, we are golden: make\n",
    "        # the current fix and return true.\n",
    "        if ( other_edits(matrix, f, step, last_j) ):\n",
    "            matrix[f[0]][f[1]] = 0 if step == 2 else 1\n",
    "            return True\n",
    "\n",
    "    # Failure if we get here.\n",
    "    return False # return False\n",
    "\n",
    "def cells_to_move(matrix):\n",
    "    # Returns a list of non-empty cells.\n",
    "    i = -1\n",
    "    cells = []\n",
    "    for row in matrix:\n",
    "        i += 1;\n",
    "        for j in range(len(row)):\n",
    "            if matrix[i][j]: cells.append([i, j])\n",
    "    return cells\n",
    "\n",
    "def edit_matrix(matrix):\n",
    "    # Takes a matrix and moves all of the non-empty cells somewhere else.\n",
    "    move_these = cells_to_move(matrix)\n",
    "    for cell in move_these:\n",
    "        (i, j) = cell\n",
    "        # Move the cell, provided that the cell hasn't been moved\n",
    "        # already and the subsequent edits don't lead to a dead end.\n",
    "        if matrix[i][j] and other_edits(matrix, cell, 0, j):\n",
    "            matrix[i][j] = 0\n",
    "    return matrix\n",
    "\n",
    "def init_matrix(rows, cols, density): # not used\n",
    "    matrix = []\n",
    "    for r in range(rows):\n",
    "        matrix.append([ 1 if random.random() < density else 0  for _ in range(cols) ])\n",
    "    return matrix\n",
    "\n",
    "def Shuffle_Matrix(matrix, N, M, n_iter):\n",
    "    #matrix = init_matrix(N, M, density)\n",
    "    print(\"init_matrix:\\n\", matrix);\n",
    "    for n in range(n_iter):\n",
    "        print(f'iteration: {n+1}') # Show progress.\n",
    "        matrix = edit_matrix(matrix)\n",
    "        #print('matrix:\\n', matrix)\n",
    "    return matrix\n",
    "\n",
    "def compute_density(train_org, cat):\n",
    "    sum = 0\n",
    "    for category in cat[3:]:\n",
    "        sum += train_org[category].sum()\n",
    "    density = sum/(train_org.shape[0] * train_org.shape[1])\n",
    "    print(f'sum={sum}, density={density}')\n",
    "    return density\n",
    "\n",
    "print(matrix.shape[0], matrix.shape[1]) #;print(matrix)\n",
    "#density = compute_density(train_org, cat)\n",
    "#density = sum([sum(row) for row in matrix])/(matrix.shape[0] * matrix.shape[1])\n",
    "#print('density : %1.6f'%density)\n",
    "\n",
    "# Args: N rows, N columns, density, N iterations.\n",
    "matrix2 = Shuffle_Matrix(matrix, matrix.shape[0], matrix.shape[1], 11) \n",
    "# even n_iter number would be the same for the toy 3x3 example\n",
    "# n_iter =  1, both==380, 370\n",
    "# n_iter =  5, both==349, 363, 371, 402, 390, 401, 371, 366, 381, 373, 389, 410, 384\n",
    "# n_iter = 10, both==381, 392, 393, 364, 402, 399, 406, 386, 380\n",
    "# n_iter = 11, both==350, 364, 362\n",
    "# n_iter = 20, both==374, 356, 368\n",
    "# n_iter = 21, both==396, 337, 379, 368\n",
    "# n_iter = 30, both==384, 379\n",
    "print(\"matrix2:\\n\", matrix2)"
   ]
  },
  {
   "cell_type": "code",
   "execution_count": 12,
   "metadata": {},
   "outputs": [],
   "source": [
    "# set matrix2 to train\n",
    "j = -1\n",
    "for c in cat[4:]:\n",
    "    j += 1\n",
    "    for i in range(Total_Samples):\n",
    "        train.at[i, c] = matrix2[i][j]"
   ]
  },
  {
   "cell_type": "code",
   "execution_count": 13,
   "metadata": {},
   "outputs": [
    {
     "name": "stdout",
     "output_type": "stream",
     "text": [
      "both          545\n",
      "left_only       0\n",
      "right_only      0\n",
      "Name: _merge, dtype: int64\n",
      "left_only     1146\n",
      "right_only    1146\n",
      "both             0\n",
      "Name: _merge, dtype: int64\n",
      "1691 545 1146 1146\n",
      "1691 0.322294500295683\n"
     ]
    }
   ],
   "source": [
    "def dataframe_difference(df1, df2, which=None):\n",
    "    \"\"\"Find rows which are different between two DataFrames.\"\"\"\n",
    "    comparison_df = df1.merge(df2,\n",
    "                              indicator=True,\n",
    "                              how='outer')\n",
    "    if which is None:\n",
    "        diff_df = comparison_df[comparison_df['_merge'] != 'both']\n",
    "    else:\n",
    "        diff_df = comparison_df[comparison_df['_merge'] == which]\n",
    "    #diff_df.to_csv('data/diff.csv')\n",
    "    return diff_df\n",
    "\n",
    "diff_both = dataframe_difference(train_org, train, which='both')\n",
    "both=diff_both['_merge'].value_counts(); print(both)\n",
    "diff = dataframe_difference(train_org, train)\n",
    "one = diff['_merge'].value_counts(); print(one)\n",
    "print(train.shape[0], both['both'], one['right_only'], one['left_only'])\n",
    "print(both['both']+one['right_only'], both['both']/train.shape[0])"
   ]
  },
  {
   "cell_type": "markdown",
   "metadata": {},
   "source": [
    "### 1.1. Checking for missing values"
   ]
  },
  {
   "cell_type": "code",
   "execution_count": 14,
   "metadata": {},
   "outputs": [
    {
     "name": "stdout",
     "output_type": "stream",
     "text": [
      "ID            0\n",
      "Title         0\n",
      "Content       0\n",
      "HumorLevel    0\n",
      "1             0\n",
      "2             0\n",
      "3             0\n",
      "4             0\n",
      "5             0\n",
      "dtype: int64 \n",
      "\n",
      "ID            0\n",
      "Title         0\n",
      "Content       0\n",
      "HumorLevel    0\n",
      "1             0\n",
      "2             0\n",
      "3             0\n",
      "4             0\n",
      "5             0\n",
      "dtype: int64\n"
     ]
    }
   ],
   "source": [
    "missing_values_check = train_org.isnull().sum()\n",
    "print(missing_values_check, \"\\n\")\n",
    "missing_values_check = train.isnull().sum()\n",
    "print(missing_values_check)"
   ]
  },
  {
   "cell_type": "markdown",
   "metadata": {},
   "source": [
    "### 1.2. Calculating number of jokes under each label"
   ]
  },
  {
   "cell_type": "code",
   "execution_count": 15,
   "metadata": {},
   "outputs": [],
   "source": [
    "# Jokes with no label are considered to be clean jokes.\n",
    "# Creating seperate column in dataframe to identify clean jokes.\n",
    "# We use axis=1 to count row-wise and axis=0 to count column wise\n",
    "def print_empty_label(df, s):\n",
    "    rowSums = df.iloc[:,3:].sum(axis=1)\n",
    "    #print(rowSums.shape)\n",
    "    #print(rowSums.head())\n",
    "    clean_comments_count = (rowSums==0).sum(axis=0)\n",
    "\n",
    "    print(f\"Total number of {s} jokes = \",len(df))\n",
    "    print(f\"Number of clean jokes in {s} = \",clean_comments_count)\n",
    "    print(f\"Number of {s} jokes with labels =\",(len(df)-clean_comments_count))\n",
    "    print()"
   ]
  },
  {
   "cell_type": "code",
   "execution_count": 16,
   "metadata": {},
   "outputs": [
    {
     "name": "stdout",
     "output_type": "stream",
     "text": [
      "False\n",
      "Total number of train_org jokes =  1691\n",
      "Number of clean jokes in train_org =  0\n",
      "Number of train_org jokes with labels = 1691\n",
      "\n",
      "Total number of train jokes =  1691\n",
      "Number of clean jokes in train =  0\n",
      "Number of train jokes with labels = 1691\n",
      "\n"
     ]
    }
   ],
   "source": [
    "print(train_org.equals(train))\n",
    "print_empty_label(train_org, 'train_org')\n",
    "print_empty_label(train, 'train')"
   ]
  },
  {
   "cell_type": "code",
   "execution_count": 17,
   "metadata": {
    "scrolled": true
   },
   "outputs": [
    {
     "name": "stdout",
     "output_type": "stream",
     "text": [
      "['ID', 'Title', 'Content', 'HumorLevel', 1, 2, 3, 4, 5]\n",
      "[1, 2, 3, 4, 5]\n"
     ]
    }
   ],
   "source": [
    "# set global variables: categories\n",
    "categories = list(df.columns.values)\n",
    "print(categories)\n",
    "categories = categories[4:]\n",
    "print(categories)"
   ]
  },
  {
   "cell_type": "code",
   "execution_count": 18,
   "metadata": {},
   "outputs": [],
   "source": [
    "# Calculating number of jokes in each category\n",
    "def print_category_count(df, categories):\n",
    "    counts = []\n",
    "    for category in categories:\n",
    "        counts.append((category, df[category].sum()))\n",
    "    df_stats = pd.DataFrame(counts, columns=['category', 'number of jokes'])\n",
    "    print(df_stats)\n",
    "    print()"
   ]
  },
  {
   "cell_type": "code",
   "execution_count": 19,
   "metadata": {},
   "outputs": [
    {
     "name": "stdout",
     "output_type": "stream",
     "text": [
      "   category  number of jokes\n",
      "0         1              363\n",
      "1         2              867\n",
      "2         3             1313\n",
      "3         4              729\n",
      "4         5               93\n",
      "\n",
      "   category  number of jokes\n",
      "0         1               47\n",
      "1         2              251\n",
      "2         3              742\n",
      "3         4              604\n",
      "4         5               47\n",
      "\n",
      "   category  number of jokes\n",
      "0         1               47\n",
      "1         2              251\n",
      "2         3              742\n",
      "3         4              604\n",
      "4         5               47\n",
      "\n",
      "   category  number of jokes\n",
      "0         1              316\n",
      "1         2              616\n",
      "2         3              571\n",
      "3         4              125\n",
      "4         5               46\n",
      "\n"
     ]
    }
   ],
   "source": [
    "print_category_count(df, categories)\n",
    "print_category_count(train_org, categories)\n",
    "print_category_count(train, categories)\n",
    "print_category_count(test, categories)"
   ]
  },
  {
   "cell_type": "code",
   "execution_count": 20,
   "metadata": {},
   "outputs": [],
   "source": [
    "def plot_category_count(df, categories):\n",
    "    sns.set(font_scale = 2)\n",
    "    plt.figure(figsize=(15,8))\n",
    "\n",
    "    ax= sns.barplot(categories, df.iloc[:,3:].sum().values)\n",
    "\n",
    "    plt.title(\"Jokes in each category\", fontsize=24)\n",
    "    plt.ylabel('Number of jokes', fontsize=18)\n",
    "    plt.xlabel('Joke Skill', fontsize=18)\n",
    "\n",
    "    #adding the text labels\n",
    "    rects = ax.patches\n",
    "    #print(rects)\n",
    "    labels = df.iloc[:,3:].sum().values\n",
    "    #print(labels)\n",
    "    for rect, label in zip(rects, labels):\n",
    "        height = rect.get_height()\n",
    "        ax.text(rect.get_x() + rect.get_width()/2, height + 5, label, ha='center', va='bottom', fontsize=18)\n",
    "\n",
    "    plt.show()"
   ]
  },
  {
   "cell_type": "code",
   "execution_count": 21,
   "metadata": {},
   "outputs": [],
   "source": [
    "#plot_category_count(df, categories)"
   ]
  },
  {
   "cell_type": "markdown",
   "metadata": {},
   "source": [
    "### 1.3. Calculating number of jokes having multiple labels"
   ]
  },
  {
   "cell_type": "code",
   "execution_count": 22,
   "metadata": {},
   "outputs": [],
   "source": [
    "def plot_multiple_label(mlc_labels, multiLabel_counts):\n",
    "    sns.set(font_scale = 2)\n",
    "    plt.figure(figsize=(15,8))\n",
    "\n",
    "    ax = sns.barplot(mlc_labels, multiLabel_counts.values)\n",
    "\n",
    "    plt.title(\"Jokes having multiple labels \")\n",
    "    plt.ylabel('Number of jokes', fontsize=18)\n",
    "    plt.xlabel('Number of labels', fontsize=18)\n",
    "\n",
    "    #adding the text labels\n",
    "    rects = ax.patches\n",
    "    labels = multiLabel_counts.values\n",
    "    for rect, label in zip(rects, labels):\n",
    "        height = rect.get_height()\n",
    "        ax.text(rect.get_x() + rect.get_width()/2, height + 5, label, ha='center', va='bottom')\n",
    "\n",
    "    plt.show()"
   ]
  },
  {
   "cell_type": "code",
   "execution_count": 23,
   "metadata": {},
   "outputs": [],
   "source": [
    "def print_multiple_label(df):\n",
    "    rowSums = df.iloc[:,4:].sum(axis=1)\n",
    "    multiLabel_counts = rowSums.value_counts()\n",
    "    print(multiLabel_counts)\n",
    "    multiLabel_counts = multiLabel_counts.iloc[:]\n",
    "    #print(multiLabel_counts.index)\n",
    "    mlc_labels = ['L'+str(i) for i in multiLabel_counts.index]\n",
    "    print(mlc_labels)\n",
    "    \n",
    "    #plot_multiple_label(mlc_labels, multiLabel_counts)\n",
    "    ##return(mlc_labels, multiLabel_counts)"
   ]
  },
  {
   "cell_type": "code",
   "execution_count": 24,
   "metadata": {},
   "outputs": [
    {
     "name": "stdout",
     "output_type": "stream",
     "text": [
      "1    3365\n",
      "dtype: int64\n",
      "['L1']\n",
      "1    1691\n",
      "dtype: int64\n",
      "['L1']\n",
      "1    1691\n",
      "dtype: int64\n",
      "['L1']\n"
     ]
    }
   ],
   "source": [
    "print_multiple_label(df)\n",
    "print_multiple_label(train_org)\n",
    "print_multiple_label(train)"
   ]
  },
  {
   "cell_type": "markdown",
   "metadata": {},
   "source": [
    "## Write the result to a file"
   ]
  },
  {
   "cell_type": "code",
   "execution_count": 25,
   "metadata": {},
   "outputs": [],
   "source": [
    "with open(train_OneHot_random_path, 'w') as outF:\n",
    "    outF.write(train.to_csv(sep='\\t', index=False))"
   ]
  },
  {
   "cell_type": "code",
   "execution_count": null,
   "metadata": {},
   "outputs": [],
   "source": []
  }
 ],
 "metadata": {
  "kernelspec": {
   "display_name": "Python 3",
   "language": "python",
   "name": "python3"
  },
  "language_info": {
   "codemirror_mode": {
    "name": "ipython",
    "version": 3
   },
   "file_extension": ".py",
   "mimetype": "text/x-python",
   "name": "python",
   "nbconvert_exporter": "python",
   "pygments_lexer": "ipython3",
   "version": "3.9.5"
  }
 },
 "nbformat": 4,
 "nbformat_minor": 2
}
